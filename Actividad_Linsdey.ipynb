{
  "nbformat": 4,
  "nbformat_minor": 0,
  "metadata": {
    "colab": {
      "provenance": [],
      "toc_visible": true,
      "authorship_tag": "ABX9TyO0qLZ7h4DU6pmYX7CoNAw2",
      "include_colab_link": true
    },
    "kernelspec": {
      "name": "python3",
      "display_name": "Python 3"
    },
    "language_info": {
      "name": "python"
    }
  },
  "cells": [
    {
      "cell_type": "markdown",
      "metadata": {
        "id": "view-in-github",
        "colab_type": "text"
      },
      "source": [
        "<a href=\"https://colab.research.google.com/github/Lins0104/Talento-Tech/blob/main/Actividad_Linsdey.ipynb\" target=\"_parent\"><img src=\"https://colab.research.google.com/assets/colab-badge.svg\" alt=\"Open In Colab\"/></a>"
      ]
    },
    {
      "cell_type": "code",
      "source": [
        "from google.colab import drive\n",
        "drive.mount('/content/drive')"
      ],
      "metadata": {
        "colab": {
          "base_uri": "https://localhost:8080/"
        },
        "id": "IMsdvsgEPPOQ",
        "outputId": "e611f2cc-7b1b-4bac-99d5-990c726e12c6"
      },
      "execution_count": null,
      "outputs": [
        {
          "output_type": "stream",
          "name": "stdout",
          "text": [
            "Mounted at /content/drive\n"
          ]
        }
      ]
    },
    {
      "cell_type": "code",
      "source": [
        "path = '/content/drive/MyDrive/Colab Notebooks/Data/ventas2.xlsx'"
      ],
      "metadata": {
        "id": "hkybD0iTR2AF"
      },
      "execution_count": null,
      "outputs": []
    },
    {
      "cell_type": "code",
      "source": [
        "import pandas as pd"
      ],
      "metadata": {
        "id": "878h0HqTSlWC"
      },
      "execution_count": null,
      "outputs": []
    },
    {
      "cell_type": "code",
      "source": [
        "df_ventas = pd.read_excel(path)"
      ],
      "metadata": {
        "id": "UzxDghtTS1lW"
      },
      "execution_count": null,
      "outputs": []
    },
    {
      "cell_type": "markdown",
      "source": [
        "#Ejercicios"
      ],
      "metadata": {
        "id": "ICGinKBQwQSo"
      }
    },
    {
      "cell_type": "code",
      "source": [
        "#Ejercicio 1: Mostrar las primeras filas del DataFrame\n",
        "print(\"Ejercicio 1: Mostrar las primeras filas del DataFrame\")\n",
        "print(df_ventas.head(5))"
      ],
      "metadata": {
        "colab": {
          "base_uri": "https://localhost:8080/"
        },
        "id": "UVDIOWIkTIjs",
        "outputId": "46ad5247-8df3-4384-da36-e66625747538"
      },
      "execution_count": null,
      "outputs": [
        {
          "output_type": "stream",
          "name": "stdout",
          "text": [
            "Ejercicio 1: Mostrar las primeras filas del DataFrame\n",
            "   Fecha   Region      Producto Vendedor  Ventas\n",
            "0  45322  Central    Accesorios    David    8287\n",
            "1  45323  Central    Accesorios    Karen    6909\n",
            "2  45324  Central  Dispositivos    David   11420\n",
            "3  45325  Central  Dispositivos    Karen   12948\n",
            "4  45326  Central      Sistemas    David   20098\n"
          ]
        }
      ]
    },
    {
      "cell_type": "code",
      "source": [
        "#Ejercicio 2: Calcular el total de ventas por región\n",
        "print(\"Ejercicio 2: Calcular el total de ventas por región\")\n",
        "ventas_por_region = df_ventas.groupby('Region')['Ventas'].sum()\n",
        "print(ventas_por_region)\n",
        "print(\"\\n\")\n",
        "print(df_ventas.head(10))"
      ],
      "metadata": {
        "colab": {
          "base_uri": "https://localhost:8080/"
        },
        "id": "CtFLJu6cUcyT",
        "outputId": "17123262-e039-4209-d1d4-e25366b0dbd0"
      },
      "execution_count": null,
      "outputs": [
        {
          "output_type": "stream",
          "name": "stdout",
          "text": [
            "Ejercicio 2: Calcular el totoal de ventas por región\n",
            "Region\n",
            "Central    90295\n",
            "Este       63555\n",
            "Oeste      85683\n",
            "Name: Ventas, dtype: int64\n",
            "\n",
            "\n",
            "   Fecha   Region      Producto Vendedor  Ventas\n",
            "0  45322  Central    Accesorios    David    8287\n",
            "1  45323  Central    Accesorios    Karen    6909\n",
            "2  45324  Central  Dispositivos    David   11420\n",
            "3  45325  Central  Dispositivos    Karen   12948\n",
            "4  45326  Central      Sistemas    David   20098\n",
            "5  45327  Central      Sistemas    Karen   30633\n",
            "6  45328     Este    Accesorios      Ana    9323\n",
            "7  45329     Este    Accesorios    Lucas    7667\n",
            "8  45330     Este  Dispositivos      Ana   10348\n",
            "9  45331     Este  Dispositivos    Lucas    9312\n"
          ]
        }
      ]
    },
    {
      "cell_type": "code",
      "source": [
        "#Ejercicio 3: Filtrar el DataFrame para mostrar solo las ventas realizadas por David.\n",
        "print(\"Ejercicio 3: Filtrar el DataFrame para mostrar solo las ventas realizadas por David.\")\n",
        "ventas_david = df_ventas[df_ventas['Vendedor'] == 'David']\n",
        "print(ventas_david)"
      ],
      "metadata": {
        "colab": {
          "base_uri": "https://localhost:8080/"
        },
        "id": "s9-dz9t5UonK",
        "outputId": "5b1145b7-446a-4600-d7ad-47a07f728d78"
      },
      "execution_count": null,
      "outputs": [
        {
          "output_type": "stream",
          "name": "stdout",
          "text": [
            "Ejercicio 3: Filtrar el DataFrame para mostrar solo las ventas realizadas por David.\n",
            "   Fecha   Region      Producto Vendedor  Ventas\n",
            "0  45322  Central    Accesorios    David    8287\n",
            "2  45324  Central  Dispositivos    David   11420\n",
            "4  45326  Central      Sistemas    David   20098\n"
          ]
        }
      ]
    },
    {
      "cell_type": "code",
      "source": [
        "#Ejercicio 4 : Calcular el promedio de ventas por region\n",
        "print(\"Ejercicio 4 : Calcular el promedio de ventas por region \")\n",
        "ventas_por_region = df_ventas.groupby('Region')['Ventas'].mean()\n",
        "print(ventas_por_region)"
      ],
      "metadata": {
        "colab": {
          "base_uri": "https://localhost:8080/"
        },
        "id": "Xtkv-Iq-VRwN",
        "outputId": "9fce0b37-2387-48ed-90e8-bd66b1072bd3"
      },
      "execution_count": null,
      "outputs": [
        {
          "output_type": "stream",
          "name": "stdout",
          "text": [
            "Ejercicio 4 : Calcular el promedio de ventas por region \n",
            "Region\n",
            "Central    15049.166667\n",
            "Este       10592.500000\n",
            "Oeste      14280.500000\n",
            "Name: Ventas, dtype: float64\n"
          ]
        }
      ]
    },
    {
      "cell_type": "code",
      "source": [
        "#Ejercicio 5 : Calcular el promedio de ventas por region\n",
        "print(\"Ejercicio 5 : Calcular el promedio de ventas por region \")\n",
        "ventas_por_region = df_ventas.groupby('Region')['Ventas'].mean().round(2)\n",
        "print(ventas_por_region)"
      ],
      "metadata": {
        "colab": {
          "base_uri": "https://localhost:8080/"
        },
        "id": "MDdLQdCmoF3a",
        "outputId": "65cfc19f-6ed5-404c-be7a-7378fd5859ef"
      },
      "execution_count": null,
      "outputs": [
        {
          "output_type": "stream",
          "name": "stdout",
          "text": [
            "Ejercicio 5 : Calcular el promedio de ventas por region \n",
            "Region\n",
            "Central    15049.17\n",
            "Este       10592.50\n",
            "Oeste      14280.50\n",
            "Name: Ventas, dtype: float64\n"
          ]
        }
      ]
    },
    {
      "cell_type": "code",
      "source": [
        "#Ejercicio 6: Ordenar el DataFrame por ventas en orden descendente\n",
        "print(\"Ejercicio 6: Ordenar el DataFrame por ventas en orden descendente \")\n",
        "df_ordenado = df_ventas.sort_values(by= 'Ventas', ascending=False)\n",
        "print(df_ordenado)"
      ],
      "metadata": {
        "colab": {
          "base_uri": "https://localhost:8080/"
        },
        "id": "d4NV68ScooGf",
        "outputId": "a8cf3167-9698-4aa8-aea5-f237d4504599"
      },
      "execution_count": null,
      "outputs": [
        {
          "output_type": "stream",
          "name": "stdout",
          "text": [
            "Ejercicio 6: Ordenar el DataFrame por ventas en orden descendente \n",
            "    Fecha   Region      Producto Vendedor  Ventas\n",
            "16  45338    Oeste      Sistemas    Kevin   32855\n",
            "5   45327  Central      Sistemas    Karen   30633\n",
            "17  45339    Oeste      Sistemas     Sara   23151\n",
            "4   45326  Central      Sistemas    David   20098\n",
            "10  45332     Este      Sistemas      Ana   13531\n",
            "11  45333     Este      Sistemas    Lucas   13374\n",
            "3   45325  Central  Dispositivos    Karen   12948\n",
            "2   45324  Central  Dispositivos    David   11420\n",
            "14  45336    Oeste  Dispositivos    Kevin   10711\n",
            "8   45330     Este  Dispositivos      Ana   10348\n",
            "6   45328     Este    Accesorios      Ana    9323\n",
            "9   45331     Este  Dispositivos    Lucas    9312\n",
            "15  45337    Oeste  Dispositivos     Sara    8780\n",
            "0   45322  Central    Accesorios    David    8287\n",
            "7   45329     Este    Accesorios    Lucas    7667\n",
            "1   45323  Central    Accesorios    Karen    6909\n",
            "13  45335    Oeste    Accesorios     Sara    5442\n",
            "12  45334    Oeste    Accesorios    Kevin    4744\n"
          ]
        }
      ]
    },
    {
      "cell_type": "code",
      "source": [
        "#Ejercicios 7: Filtara las filas con ventas mayores a 10000 y ordenar de mayor a menor\n",
        "print(\"Ejercicios 7: Filtara las filas con ventas mayores a 10000 y ordenar de mayor a menor\")\n",
        "df_filtrado = df_ventas[df_ventas['Ventas'] > 10000].sort_values(by='Ventas', ascending=True)\n",
        "print(df_filtrado)"
      ],
      "metadata": {
        "colab": {
          "base_uri": "https://localhost:8080/"
        },
        "id": "uMa4SQlJqvEq",
        "outputId": "198f5257-9fd7-4f25-89dd-6349fb9b8f66"
      },
      "execution_count": null,
      "outputs": [
        {
          "output_type": "stream",
          "name": "stdout",
          "text": [
            "Ejercicios 7: Filtara las filas con ventas mayores a 10000 y ordenar de mayor a menor\n",
            "    Fecha   Region      Producto Vendedor  Ventas\n",
            "8   45330     Este  Dispositivos      Ana   10348\n",
            "14  45336    Oeste  Dispositivos    Kevin   10711\n",
            "2   45324  Central  Dispositivos    David   11420\n",
            "3   45325  Central  Dispositivos    Karen   12948\n",
            "11  45333     Este      Sistemas    Lucas   13374\n",
            "10  45332     Este      Sistemas      Ana   13531\n",
            "4   45326  Central      Sistemas    David   20098\n",
            "17  45339    Oeste      Sistemas     Sara   23151\n",
            "5   45327  Central      Sistemas    Karen   30633\n",
            "16  45338    Oeste      Sistemas    Kevin   32855\n"
          ]
        }
      ]
    },
    {
      "cell_type": "code",
      "source": [
        "# Ejercicio 8: Ordenar el DataFrame por ventas en orden descendente\n",
        "print( \"Ejercicio 8: Ordenar el DataFrame por ventas en orden descendente\")\n",
        "df_ordenado = df_ventas.sort_values(by= 'Ventas', ascending=False)\n",
        "print(df_ordenado)"
      ],
      "metadata": {
        "colab": {
          "base_uri": "https://localhost:8080/"
        },
        "id": "3QfaWfiztFBN",
        "outputId": "ff7f97a9-175b-4830-d293-c7e6106a9883"
      },
      "execution_count": null,
      "outputs": [
        {
          "output_type": "stream",
          "name": "stdout",
          "text": [
            "Ejercicio 8: Ordenar el DataFrame por ventas en orden descendente\n",
            "    Fecha   Region      Producto Vendedor  Ventas\n",
            "16  45338    Oeste      Sistemas    Kevin   32855\n",
            "5   45327  Central      Sistemas    Karen   30633\n",
            "17  45339    Oeste      Sistemas     Sara   23151\n",
            "4   45326  Central      Sistemas    David   20098\n",
            "10  45332     Este      Sistemas      Ana   13531\n",
            "11  45333     Este      Sistemas    Lucas   13374\n",
            "3   45325  Central  Dispositivos    Karen   12948\n",
            "2   45324  Central  Dispositivos    David   11420\n",
            "14  45336    Oeste  Dispositivos    Kevin   10711\n",
            "8   45330     Este  Dispositivos      Ana   10348\n",
            "6   45328     Este    Accesorios      Ana    9323\n",
            "9   45331     Este  Dispositivos    Lucas    9312\n",
            "15  45337    Oeste  Dispositivos     Sara    8780\n",
            "0   45322  Central    Accesorios    David    8287\n",
            "7   45329     Este    Accesorios    Lucas    7667\n",
            "1   45323  Central    Accesorios    Karen    6909\n",
            "13  45335    Oeste    Accesorios     Sara    5442\n",
            "12  45334    Oeste    Accesorios    Kevin    4744\n"
          ]
        }
      ]
    },
    {
      "cell_type": "code",
      "source": [
        "#Ejercicio 9: Elimar la columna vendedor\n",
        "print(\"Ejercicio 9: Elimar la columna vendedor\")\n",
        "df_sin_ventas = df_ventas.drop(columns= ['Vendedor'])\n",
        "print(df_sin_ventas)"
      ],
      "metadata": {
        "colab": {
          "base_uri": "https://localhost:8080/"
        },
        "id": "rfAIGGTDtnP5",
        "outputId": "668ea79f-7ad6-4585-d839-6d8b26f26de3"
      },
      "execution_count": null,
      "outputs": [
        {
          "output_type": "stream",
          "name": "stdout",
          "text": [
            "Ejercicio 9: Elimar la columna vendedor\n",
            "    Fecha   Region      Producto  Ventas\n",
            "0   45322  Central    Accesorios    8287\n",
            "1   45323  Central    Accesorios    6909\n",
            "2   45324  Central  Dispositivos   11420\n",
            "3   45325  Central  Dispositivos   12948\n",
            "4   45326  Central      Sistemas   20098\n",
            "5   45327  Central      Sistemas   30633\n",
            "6   45328     Este    Accesorios    9323\n",
            "7   45329     Este    Accesorios    7667\n",
            "8   45330     Este  Dispositivos   10348\n",
            "9   45331     Este  Dispositivos    9312\n",
            "10  45332     Este      Sistemas   13531\n",
            "11  45333     Este      Sistemas   13374\n",
            "12  45334    Oeste    Accesorios    4744\n",
            "13  45335    Oeste    Accesorios    5442\n",
            "14  45336    Oeste  Dispositivos   10711\n",
            "15  45337    Oeste  Dispositivos    8780\n",
            "16  45338    Oeste      Sistemas   32855\n",
            "17  45339    Oeste      Sistemas   23151\n"
          ]
        }
      ]
    },
    {
      "cell_type": "code",
      "source": [
        "#Ejercicio 10: Calcular  el total de ventas por region\n",
        "print(\"Ejercicio 10: Calcular  el total de ventas por region\")\n",
        "ventas_por_region = df_ventas.groupby('Region')['Ventas'].sum()\n",
        "print(ventas_por_region)\n",
        "print(\"\\n\")\n"
      ],
      "metadata": {
        "colab": {
          "base_uri": "https://localhost:8080/"
        },
        "id": "AtPzrBl6zAK5",
        "outputId": "3eae7907-555c-4f89-f391-b39cc123014d"
      },
      "execution_count": null,
      "outputs": [
        {
          "output_type": "stream",
          "name": "stdout",
          "text": [
            "Ejercicio 10: Calcular  el total de ventas por region\n",
            "Region\n",
            "Central    90295\n",
            "Este       63555\n",
            "Oeste      85683\n",
            "Name: Ventas, dtype: int64\n",
            "\n",
            "\n"
          ]
        }
      ]
    },
    {
      "cell_type": "code",
      "source": [
        "#Ejercicio 10: Calcular  el total de ventas por producto\n",
        "print(\"Ejercicio 10: Calcular  el total de ventas por producto\")\n",
        "ventas_por_producto = df_ventas.groupby('Producto')['Ventas'].sum()\n",
        "print(ventas_por_producto)\n",
        "print(\"\\n\")"
      ],
      "metadata": {
        "colab": {
          "base_uri": "https://localhost:8080/"
        },
        "id": "I-I0Guy59hgb",
        "outputId": "e6ab33ee-d9e7-4d7c-8b06-7fc9ef1afc82"
      },
      "execution_count": null,
      "outputs": [
        {
          "output_type": "stream",
          "name": "stdout",
          "text": [
            "Ejercicio 10: Calcular  el total de ventas por producto\n",
            "Producto\n",
            "Accesorios       42372\n",
            "Dispositivos     63519\n",
            "Sistemas        133642\n",
            "Name: Ventas, dtype: int64\n",
            "\n",
            "\n"
          ]
        }
      ]
    },
    {
      "cell_type": "markdown",
      "source": [
        "##DataSet 1"
      ],
      "metadata": {
        "id": "00E5e0BKv2X3"
      }
    },
    {
      "cell_type": "code",
      "source": [
        "file_path= '/content/drive/MyDrive/Colab Notebooks/Data/Dataset 1.csv'\n",
        "df_person = pd.read_csv(file_path)\n",
        "print(df_person)"
      ],
      "metadata": {
        "colab": {
          "base_uri": "https://localhost:8080/"
        },
        "id": "bG5eG429t84P",
        "outputId": "76389999-1369-47ac-f602-bb3c2d3aafc0"
      },
      "execution_count": null,
      "outputs": [
        {
          "output_type": "stream",
          "name": "stdout",
          "text": [
            "   id   weight  height  age gender\n",
            "0    1   144.5     5.9   33      M\n",
            "1    2   167.2     5.4   45      M\n",
            "2    3   124.1     5.2   23      F\n",
            "3    4   144.5     5.9   33      M\n",
            "4    5   133.2     5.7   54      F\n",
            "5    3   124.1     5.2   23      F\n",
            "6    5   129.2     5.3   42      M\n"
          ]
        }
      ]
    },
    {
      "cell_type": "code",
      "source": [
        "df_person.head()"
      ],
      "metadata": {
        "colab": {
          "base_uri": "https://localhost:8080/",
          "height": 206
        },
        "id": "KI1R2OCsCryt",
        "outputId": "91c60315-461f-40df-a366-fec4909ac6ae"
      },
      "execution_count": null,
      "outputs": [
        {
          "output_type": "execute_result",
          "data": {
            "text/plain": [
              "   id   weight  height  age gender\n",
              "0    1   144.5     5.9   33      M\n",
              "1    2   167.2     5.4   45      M\n",
              "2    3   124.1     5.2   23      F\n",
              "3    4   144.5     5.9   33      M\n",
              "4    5   133.2     5.7   54      F"
            ],
            "text/html": [
              "\n",
              "  <div id=\"df-e3d690cf-d7dc-487e-9ddb-4cb7f723915d\" class=\"colab-df-container\">\n",
              "    <div>\n",
              "<style scoped>\n",
              "    .dataframe tbody tr th:only-of-type {\n",
              "        vertical-align: middle;\n",
              "    }\n",
              "\n",
              "    .dataframe tbody tr th {\n",
              "        vertical-align: top;\n",
              "    }\n",
              "\n",
              "    .dataframe thead th {\n",
              "        text-align: right;\n",
              "    }\n",
              "</style>\n",
              "<table border=\"1\" class=\"dataframe\">\n",
              "  <thead>\n",
              "    <tr style=\"text-align: right;\">\n",
              "      <th></th>\n",
              "      <th>id</th>\n",
              "      <th>weight</th>\n",
              "      <th>height</th>\n",
              "      <th>age</th>\n",
              "      <th>gender</th>\n",
              "    </tr>\n",
              "  </thead>\n",
              "  <tbody>\n",
              "    <tr>\n",
              "      <th>0</th>\n",
              "      <td>1</td>\n",
              "      <td>144.5</td>\n",
              "      <td>5.9</td>\n",
              "      <td>33</td>\n",
              "      <td>M</td>\n",
              "    </tr>\n",
              "    <tr>\n",
              "      <th>1</th>\n",
              "      <td>2</td>\n",
              "      <td>167.2</td>\n",
              "      <td>5.4</td>\n",
              "      <td>45</td>\n",
              "      <td>M</td>\n",
              "    </tr>\n",
              "    <tr>\n",
              "      <th>2</th>\n",
              "      <td>3</td>\n",
              "      <td>124.1</td>\n",
              "      <td>5.2</td>\n",
              "      <td>23</td>\n",
              "      <td>F</td>\n",
              "    </tr>\n",
              "    <tr>\n",
              "      <th>3</th>\n",
              "      <td>4</td>\n",
              "      <td>144.5</td>\n",
              "      <td>5.9</td>\n",
              "      <td>33</td>\n",
              "      <td>M</td>\n",
              "    </tr>\n",
              "    <tr>\n",
              "      <th>4</th>\n",
              "      <td>5</td>\n",
              "      <td>133.2</td>\n",
              "      <td>5.7</td>\n",
              "      <td>54</td>\n",
              "      <td>F</td>\n",
              "    </tr>\n",
              "  </tbody>\n",
              "</table>\n",
              "</div>\n",
              "    <div class=\"colab-df-buttons\">\n",
              "\n",
              "  <div class=\"colab-df-container\">\n",
              "    <button class=\"colab-df-convert\" onclick=\"convertToInteractive('df-e3d690cf-d7dc-487e-9ddb-4cb7f723915d')\"\n",
              "            title=\"Convert this dataframe to an interactive table.\"\n",
              "            style=\"display:none;\">\n",
              "\n",
              "  <svg xmlns=\"http://www.w3.org/2000/svg\" height=\"24px\" viewBox=\"0 -960 960 960\">\n",
              "    <path d=\"M120-120v-720h720v720H120Zm60-500h600v-160H180v160Zm220 220h160v-160H400v160Zm0 220h160v-160H400v160ZM180-400h160v-160H180v160Zm440 0h160v-160H620v160ZM180-180h160v-160H180v160Zm440 0h160v-160H620v160Z\"/>\n",
              "  </svg>\n",
              "    </button>\n",
              "\n",
              "  <style>\n",
              "    .colab-df-container {\n",
              "      display:flex;\n",
              "      gap: 12px;\n",
              "    }\n",
              "\n",
              "    .colab-df-convert {\n",
              "      background-color: #E8F0FE;\n",
              "      border: none;\n",
              "      border-radius: 50%;\n",
              "      cursor: pointer;\n",
              "      display: none;\n",
              "      fill: #1967D2;\n",
              "      height: 32px;\n",
              "      padding: 0 0 0 0;\n",
              "      width: 32px;\n",
              "    }\n",
              "\n",
              "    .colab-df-convert:hover {\n",
              "      background-color: #E2EBFA;\n",
              "      box-shadow: 0px 1px 2px rgba(60, 64, 67, 0.3), 0px 1px 3px 1px rgba(60, 64, 67, 0.15);\n",
              "      fill: #174EA6;\n",
              "    }\n",
              "\n",
              "    .colab-df-buttons div {\n",
              "      margin-bottom: 4px;\n",
              "    }\n",
              "\n",
              "    [theme=dark] .colab-df-convert {\n",
              "      background-color: #3B4455;\n",
              "      fill: #D2E3FC;\n",
              "    }\n",
              "\n",
              "    [theme=dark] .colab-df-convert:hover {\n",
              "      background-color: #434B5C;\n",
              "      box-shadow: 0px 1px 3px 1px rgba(0, 0, 0, 0.15);\n",
              "      filter: drop-shadow(0px 1px 2px rgba(0, 0, 0, 0.3));\n",
              "      fill: #FFFFFF;\n",
              "    }\n",
              "  </style>\n",
              "\n",
              "    <script>\n",
              "      const buttonEl =\n",
              "        document.querySelector('#df-e3d690cf-d7dc-487e-9ddb-4cb7f723915d button.colab-df-convert');\n",
              "      buttonEl.style.display =\n",
              "        google.colab.kernel.accessAllowed ? 'block' : 'none';\n",
              "\n",
              "      async function convertToInteractive(key) {\n",
              "        const element = document.querySelector('#df-e3d690cf-d7dc-487e-9ddb-4cb7f723915d');\n",
              "        const dataTable =\n",
              "          await google.colab.kernel.invokeFunction('convertToInteractive',\n",
              "                                                    [key], {});\n",
              "        if (!dataTable) return;\n",
              "\n",
              "        const docLinkHtml = 'Like what you see? Visit the ' +\n",
              "          '<a target=\"_blank\" href=https://colab.research.google.com/notebooks/data_table.ipynb>data table notebook</a>'\n",
              "          + ' to learn more about interactive tables.';\n",
              "        element.innerHTML = '';\n",
              "        dataTable['output_type'] = 'display_data';\n",
              "        await google.colab.output.renderOutput(dataTable, element);\n",
              "        const docLink = document.createElement('div');\n",
              "        docLink.innerHTML = docLinkHtml;\n",
              "        element.appendChild(docLink);\n",
              "      }\n",
              "    </script>\n",
              "  </div>\n",
              "\n",
              "\n",
              "<div id=\"df-b5eb5721-2fff-4fa9-a1d9-20a127e2af7c\">\n",
              "  <button class=\"colab-df-quickchart\" onclick=\"quickchart('df-b5eb5721-2fff-4fa9-a1d9-20a127e2af7c')\"\n",
              "            title=\"Suggest charts\"\n",
              "            style=\"display:none;\">\n",
              "\n",
              "<svg xmlns=\"http://www.w3.org/2000/svg\" height=\"24px\"viewBox=\"0 0 24 24\"\n",
              "     width=\"24px\">\n",
              "    <g>\n",
              "        <path d=\"M19 3H5c-1.1 0-2 .9-2 2v14c0 1.1.9 2 2 2h14c1.1 0 2-.9 2-2V5c0-1.1-.9-2-2-2zM9 17H7v-7h2v7zm4 0h-2V7h2v10zm4 0h-2v-4h2v4z\"/>\n",
              "    </g>\n",
              "</svg>\n",
              "  </button>\n",
              "\n",
              "<style>\n",
              "  .colab-df-quickchart {\n",
              "      --bg-color: #E8F0FE;\n",
              "      --fill-color: #1967D2;\n",
              "      --hover-bg-color: #E2EBFA;\n",
              "      --hover-fill-color: #174EA6;\n",
              "      --disabled-fill-color: #AAA;\n",
              "      --disabled-bg-color: #DDD;\n",
              "  }\n",
              "\n",
              "  [theme=dark] .colab-df-quickchart {\n",
              "      --bg-color: #3B4455;\n",
              "      --fill-color: #D2E3FC;\n",
              "      --hover-bg-color: #434B5C;\n",
              "      --hover-fill-color: #FFFFFF;\n",
              "      --disabled-bg-color: #3B4455;\n",
              "      --disabled-fill-color: #666;\n",
              "  }\n",
              "\n",
              "  .colab-df-quickchart {\n",
              "    background-color: var(--bg-color);\n",
              "    border: none;\n",
              "    border-radius: 50%;\n",
              "    cursor: pointer;\n",
              "    display: none;\n",
              "    fill: var(--fill-color);\n",
              "    height: 32px;\n",
              "    padding: 0;\n",
              "    width: 32px;\n",
              "  }\n",
              "\n",
              "  .colab-df-quickchart:hover {\n",
              "    background-color: var(--hover-bg-color);\n",
              "    box-shadow: 0 1px 2px rgba(60, 64, 67, 0.3), 0 1px 3px 1px rgba(60, 64, 67, 0.15);\n",
              "    fill: var(--button-hover-fill-color);\n",
              "  }\n",
              "\n",
              "  .colab-df-quickchart-complete:disabled,\n",
              "  .colab-df-quickchart-complete:disabled:hover {\n",
              "    background-color: var(--disabled-bg-color);\n",
              "    fill: var(--disabled-fill-color);\n",
              "    box-shadow: none;\n",
              "  }\n",
              "\n",
              "  .colab-df-spinner {\n",
              "    border: 2px solid var(--fill-color);\n",
              "    border-color: transparent;\n",
              "    border-bottom-color: var(--fill-color);\n",
              "    animation:\n",
              "      spin 1s steps(1) infinite;\n",
              "  }\n",
              "\n",
              "  @keyframes spin {\n",
              "    0% {\n",
              "      border-color: transparent;\n",
              "      border-bottom-color: var(--fill-color);\n",
              "      border-left-color: var(--fill-color);\n",
              "    }\n",
              "    20% {\n",
              "      border-color: transparent;\n",
              "      border-left-color: var(--fill-color);\n",
              "      border-top-color: var(--fill-color);\n",
              "    }\n",
              "    30% {\n",
              "      border-color: transparent;\n",
              "      border-left-color: var(--fill-color);\n",
              "      border-top-color: var(--fill-color);\n",
              "      border-right-color: var(--fill-color);\n",
              "    }\n",
              "    40% {\n",
              "      border-color: transparent;\n",
              "      border-right-color: var(--fill-color);\n",
              "      border-top-color: var(--fill-color);\n",
              "    }\n",
              "    60% {\n",
              "      border-color: transparent;\n",
              "      border-right-color: var(--fill-color);\n",
              "    }\n",
              "    80% {\n",
              "      border-color: transparent;\n",
              "      border-right-color: var(--fill-color);\n",
              "      border-bottom-color: var(--fill-color);\n",
              "    }\n",
              "    90% {\n",
              "      border-color: transparent;\n",
              "      border-bottom-color: var(--fill-color);\n",
              "    }\n",
              "  }\n",
              "</style>\n",
              "\n",
              "  <script>\n",
              "    async function quickchart(key) {\n",
              "      const quickchartButtonEl =\n",
              "        document.querySelector('#' + key + ' button');\n",
              "      quickchartButtonEl.disabled = true;  // To prevent multiple clicks.\n",
              "      quickchartButtonEl.classList.add('colab-df-spinner');\n",
              "      try {\n",
              "        const charts = await google.colab.kernel.invokeFunction(\n",
              "            'suggestCharts', [key], {});\n",
              "      } catch (error) {\n",
              "        console.error('Error during call to suggestCharts:', error);\n",
              "      }\n",
              "      quickchartButtonEl.classList.remove('colab-df-spinner');\n",
              "      quickchartButtonEl.classList.add('colab-df-quickchart-complete');\n",
              "    }\n",
              "    (() => {\n",
              "      let quickchartButtonEl =\n",
              "        document.querySelector('#df-b5eb5721-2fff-4fa9-a1d9-20a127e2af7c button');\n",
              "      quickchartButtonEl.style.display =\n",
              "        google.colab.kernel.accessAllowed ? 'block' : 'none';\n",
              "    })();\n",
              "  </script>\n",
              "</div>\n",
              "\n",
              "    </div>\n",
              "  </div>\n"
            ],
            "application/vnd.google.colaboratory.intrinsic+json": {
              "type": "dataframe",
              "variable_name": "df_person",
              "summary": "{\n  \"name\": \"df_person\",\n  \"rows\": 7,\n  \"fields\": [\n    {\n      \"column\": \"id \",\n      \"properties\": {\n        \"dtype\": \"number\",\n        \"std\": 1,\n        \"min\": 1,\n        \"max\": 5,\n        \"num_unique_values\": 5,\n        \"samples\": [\n          2,\n          5,\n          3\n        ],\n        \"semantic_type\": \"\",\n        \"description\": \"\"\n      }\n    },\n    {\n      \"column\": \"weight\",\n      \"properties\": {\n        \"dtype\": \"number\",\n        \"std\": 15.405348483717008,\n        \"min\": 124.1,\n        \"max\": 167.2,\n        \"num_unique_values\": 5,\n        \"samples\": [\n          167.2,\n          129.2,\n          124.1\n        ],\n        \"semantic_type\": \"\",\n        \"description\": \"\"\n      }\n    },\n    {\n      \"column\": \"height\",\n      \"properties\": {\n        \"dtype\": \"number\",\n        \"std\": 0.3132015933791496,\n        \"min\": 5.2,\n        \"max\": 5.9,\n        \"num_unique_values\": 5,\n        \"samples\": [\n          5.4,\n          5.3,\n          5.2\n        ],\n        \"semantic_type\": \"\",\n        \"description\": \"\"\n      }\n    },\n    {\n      \"column\": \"age\",\n      \"properties\": {\n        \"dtype\": \"number\",\n        \"std\": 11,\n        \"min\": 23,\n        \"max\": 54,\n        \"num_unique_values\": 5,\n        \"samples\": [\n          45,\n          42,\n          23\n        ],\n        \"semantic_type\": \"\",\n        \"description\": \"\"\n      }\n    },\n    {\n      \"column\": \"gender\",\n      \"properties\": {\n        \"dtype\": \"category\",\n        \"num_unique_values\": 2,\n        \"samples\": [\n          \"F\",\n          \"M\"\n        ],\n        \"semantic_type\": \"\",\n        \"description\": \"\"\n      }\n    }\n  ]\n}"
            }
          },
          "metadata": {},
          "execution_count": 52
        }
      ]
    },
    {
      "cell_type": "code",
      "source": [
        "#Cambiar el nombre de las columnas del df_nombres (weight, height, age, gender)\n",
        "df_nombres = df_person.rename(columns={'weight': 'Peso', 'height': 'Estatura', 'age': 'Edad', 'gender': 'Genero'})\n",
        "print(df_nombres)"
      ],
      "metadata": {
        "colab": {
          "base_uri": "https://localhost:8080/"
        },
        "id": "FQoWAHHVCvri",
        "outputId": "b66cf61f-9f86-44bb-9dfc-f0ac7fec7a9b"
      },
      "execution_count": null,
      "outputs": [
        {
          "output_type": "stream",
          "name": "stdout",
          "text": [
            "   id    Peso  Estatura  Edad Genero\n",
            "0    1  144.5       5.9    33      M\n",
            "1    2  167.2       5.4    45      M\n",
            "2    3  124.1       5.2    23      F\n",
            "3    4  144.5       5.9    33      M\n",
            "4    5  133.2       5.7    54      F\n",
            "5    3  124.1       5.2    23      F\n",
            "6    5  129.2       5.3    42      M\n"
          ]
        }
      ]
    },
    {
      "cell_type": "code",
      "source": [
        "#Factores de conversion\n",
        "lbs_to_kg = 0.453592\n",
        "estatura_to_mt = 0.3048\n",
        "\n",
        "#Crear un DataFrame llamado df_convertido\n",
        "df_convertido = df_nombres\n",
        "\n",
        "#Convertir peso a kg\n",
        "df_convertido['Peso_Nuevo'] = df_convertido['Peso'] * lbs_to_kg\n",
        "\n",
        "#Convertir estatura a metros\n",
        "df_convertido['Estatura']= df_person['Estatura'] * estatura_to_mt\n",
        "\n",
        "#Mostrar el DataFrame actualizado\n",
        "print(df_convertido)"
      ],
      "metadata": {
        "colab": {
          "base_uri": "https://localhost:8080/",
          "height": 686
        },
        "collapsed": true,
        "id": "NgCem17vvijD",
        "outputId": "2bee8e8d-1095-4938-cbfd-2a95a9d59842"
      },
      "execution_count": null,
      "outputs": [
        {
          "output_type": "stream",
          "name": "stdout",
          "text": [
            "   id    Peso  Estatura  Edad Genero  Peso_Nuevo\n",
            "0    1  144.5       5.9    33      M   65.544044\n",
            "1    2  167.2       5.4    45      M   75.840582\n",
            "2    3  124.1       5.2    23      F   56.290767\n",
            "3    4  144.5       5.9    33      M   65.544044\n",
            "4    5  133.2       5.7    54      F   60.418454\n",
            "5    3  124.1       5.2    23      F   56.290767\n",
            "6    5  129.2       5.3    42      M   58.604086\n"
          ]
        },
        {
          "output_type": "error",
          "ename": "KeyError",
          "evalue": "'Estatura'",
          "traceback": [
            "\u001b[0;31m---------------------------------------------------------------------------\u001b[0m",
            "\u001b[0;31mKeyError\u001b[0m                                  Traceback (most recent call last)",
            "\u001b[0;32m/usr/local/lib/python3.10/dist-packages/pandas/core/indexes/base.py\u001b[0m in \u001b[0;36mget_loc\u001b[0;34m(self, key)\u001b[0m\n\u001b[1;32m   3652\u001b[0m         \u001b[0;32mtry\u001b[0m\u001b[0;34m:\u001b[0m\u001b[0;34m\u001b[0m\u001b[0;34m\u001b[0m\u001b[0m\n\u001b[0;32m-> 3653\u001b[0;31m             \u001b[0;32mreturn\u001b[0m \u001b[0mself\u001b[0m\u001b[0;34m.\u001b[0m\u001b[0m_engine\u001b[0m\u001b[0;34m.\u001b[0m\u001b[0mget_loc\u001b[0m\u001b[0;34m(\u001b[0m\u001b[0mcasted_key\u001b[0m\u001b[0;34m)\u001b[0m\u001b[0;34m\u001b[0m\u001b[0;34m\u001b[0m\u001b[0m\n\u001b[0m\u001b[1;32m   3654\u001b[0m         \u001b[0;32mexcept\u001b[0m \u001b[0mKeyError\u001b[0m \u001b[0;32mas\u001b[0m \u001b[0merr\u001b[0m\u001b[0;34m:\u001b[0m\u001b[0;34m\u001b[0m\u001b[0;34m\u001b[0m\u001b[0m\n",
            "\u001b[0;32m/usr/local/lib/python3.10/dist-packages/pandas/_libs/index.pyx\u001b[0m in \u001b[0;36mpandas._libs.index.IndexEngine.get_loc\u001b[0;34m()\u001b[0m\n",
            "\u001b[0;32m/usr/local/lib/python3.10/dist-packages/pandas/_libs/index.pyx\u001b[0m in \u001b[0;36mpandas._libs.index.IndexEngine.get_loc\u001b[0;34m()\u001b[0m\n",
            "\u001b[0;32mpandas/_libs/hashtable_class_helper.pxi\u001b[0m in \u001b[0;36mpandas._libs.hashtable.PyObjectHashTable.get_item\u001b[0;34m()\u001b[0m\n",
            "\u001b[0;32mpandas/_libs/hashtable_class_helper.pxi\u001b[0m in \u001b[0;36mpandas._libs.hashtable.PyObjectHashTable.get_item\u001b[0;34m()\u001b[0m\n",
            "\u001b[0;31mKeyError\u001b[0m: 'Estatura'",
            "\nThe above exception was the direct cause of the following exception:\n",
            "\u001b[0;31mKeyError\u001b[0m                                  Traceback (most recent call last)",
            "\u001b[0;32m<ipython-input-56-3e184c02ccd4>\u001b[0m in \u001b[0;36m<cell line: 13>\u001b[0;34m()\u001b[0m\n\u001b[1;32m     11\u001b[0m \u001b[0;34m\u001b[0m\u001b[0m\n\u001b[1;32m     12\u001b[0m \u001b[0;31m#Convertir estatura a metros\u001b[0m\u001b[0;34m\u001b[0m\u001b[0;34m\u001b[0m\u001b[0m\n\u001b[0;32m---> 13\u001b[0;31m \u001b[0mdf_convertido\u001b[0m\u001b[0;34m[\u001b[0m\u001b[0;34m'Estatura'\u001b[0m\u001b[0;34m]\u001b[0m\u001b[0;34m=\u001b[0m \u001b[0mdf_person\u001b[0m\u001b[0;34m[\u001b[0m\u001b[0;34m'Estatura'\u001b[0m\u001b[0;34m]\u001b[0m \u001b[0;34m*\u001b[0m \u001b[0mestatura_to_mt\u001b[0m\u001b[0;34m\u001b[0m\u001b[0;34m\u001b[0m\u001b[0m\n\u001b[0m\u001b[1;32m     14\u001b[0m \u001b[0;34m\u001b[0m\u001b[0m\n\u001b[1;32m     15\u001b[0m \u001b[0;31m#Mostrar el DataFrame actualizado\u001b[0m\u001b[0;34m\u001b[0m\u001b[0;34m\u001b[0m\u001b[0m\n",
            "\u001b[0;32m/usr/local/lib/python3.10/dist-packages/pandas/core/frame.py\u001b[0m in \u001b[0;36m__getitem__\u001b[0;34m(self, key)\u001b[0m\n\u001b[1;32m   3759\u001b[0m             \u001b[0;32mif\u001b[0m \u001b[0mself\u001b[0m\u001b[0;34m.\u001b[0m\u001b[0mcolumns\u001b[0m\u001b[0;34m.\u001b[0m\u001b[0mnlevels\u001b[0m \u001b[0;34m>\u001b[0m \u001b[0;36m1\u001b[0m\u001b[0;34m:\u001b[0m\u001b[0;34m\u001b[0m\u001b[0;34m\u001b[0m\u001b[0m\n\u001b[1;32m   3760\u001b[0m                 \u001b[0;32mreturn\u001b[0m \u001b[0mself\u001b[0m\u001b[0;34m.\u001b[0m\u001b[0m_getitem_multilevel\u001b[0m\u001b[0;34m(\u001b[0m\u001b[0mkey\u001b[0m\u001b[0;34m)\u001b[0m\u001b[0;34m\u001b[0m\u001b[0;34m\u001b[0m\u001b[0m\n\u001b[0;32m-> 3761\u001b[0;31m             \u001b[0mindexer\u001b[0m \u001b[0;34m=\u001b[0m \u001b[0mself\u001b[0m\u001b[0;34m.\u001b[0m\u001b[0mcolumns\u001b[0m\u001b[0;34m.\u001b[0m\u001b[0mget_loc\u001b[0m\u001b[0;34m(\u001b[0m\u001b[0mkey\u001b[0m\u001b[0;34m)\u001b[0m\u001b[0;34m\u001b[0m\u001b[0;34m\u001b[0m\u001b[0m\n\u001b[0m\u001b[1;32m   3762\u001b[0m             \u001b[0;32mif\u001b[0m \u001b[0mis_integer\u001b[0m\u001b[0;34m(\u001b[0m\u001b[0mindexer\u001b[0m\u001b[0;34m)\u001b[0m\u001b[0;34m:\u001b[0m\u001b[0;34m\u001b[0m\u001b[0;34m\u001b[0m\u001b[0m\n\u001b[1;32m   3763\u001b[0m                 \u001b[0mindexer\u001b[0m \u001b[0;34m=\u001b[0m \u001b[0;34m[\u001b[0m\u001b[0mindexer\u001b[0m\u001b[0;34m]\u001b[0m\u001b[0;34m\u001b[0m\u001b[0;34m\u001b[0m\u001b[0m\n",
            "\u001b[0;32m/usr/local/lib/python3.10/dist-packages/pandas/core/indexes/base.py\u001b[0m in \u001b[0;36mget_loc\u001b[0;34m(self, key)\u001b[0m\n\u001b[1;32m   3653\u001b[0m             \u001b[0;32mreturn\u001b[0m \u001b[0mself\u001b[0m\u001b[0;34m.\u001b[0m\u001b[0m_engine\u001b[0m\u001b[0;34m.\u001b[0m\u001b[0mget_loc\u001b[0m\u001b[0;34m(\u001b[0m\u001b[0mcasted_key\u001b[0m\u001b[0;34m)\u001b[0m\u001b[0;34m\u001b[0m\u001b[0;34m\u001b[0m\u001b[0m\n\u001b[1;32m   3654\u001b[0m         \u001b[0;32mexcept\u001b[0m \u001b[0mKeyError\u001b[0m \u001b[0;32mas\u001b[0m \u001b[0merr\u001b[0m\u001b[0;34m:\u001b[0m\u001b[0;34m\u001b[0m\u001b[0;34m\u001b[0m\u001b[0m\n\u001b[0;32m-> 3655\u001b[0;31m             \u001b[0;32mraise\u001b[0m \u001b[0mKeyError\u001b[0m\u001b[0;34m(\u001b[0m\u001b[0mkey\u001b[0m\u001b[0;34m)\u001b[0m \u001b[0;32mfrom\u001b[0m \u001b[0merr\u001b[0m\u001b[0;34m\u001b[0m\u001b[0;34m\u001b[0m\u001b[0m\n\u001b[0m\u001b[1;32m   3656\u001b[0m         \u001b[0;32mexcept\u001b[0m \u001b[0mTypeError\u001b[0m\u001b[0;34m:\u001b[0m\u001b[0;34m\u001b[0m\u001b[0;34m\u001b[0m\u001b[0m\n\u001b[1;32m   3657\u001b[0m             \u001b[0;31m# If we have a listlike key, _check_indexing_error will raise\u001b[0m\u001b[0;34m\u001b[0m\u001b[0;34m\u001b[0m\u001b[0m\n",
            "\u001b[0;31mKeyError\u001b[0m: 'Estatura'"
          ]
        }
      ]
    },
    {
      "cell_type": "markdown",
      "source": [
        "## DataSet 2"
      ],
      "metadata": {
        "id": "J9QIQeW6wHeJ"
      }
    },
    {
      "cell_type": "code",
      "source": [
        "file_path= '/content/drive/MyDrive/Colab Notebooks/Data/Dataset 2.csv'\n",
        "df_DataSet2 = pd.read_csv(file_path)\n",
        "print(df_DataSet2)"
      ],
      "metadata": {
        "id": "gpxTk3LywLJl",
        "colab": {
          "base_uri": "https://localhost:8080/"
        },
        "outputId": "8588cb39-2c42-479c-9ebc-007e35e01573"
      },
      "execution_count": null,
      "outputs": [
        {
          "output_type": "stream",
          "name": "stdout",
          "text": [
            "   id  weight height  age\n",
            "0    1  143,5    5,3   28\n",
            "1    2  154,2    5,5   45\n",
            "2    3  342,3    5,1   99\n",
            "3    4  144,5    5,5   33\n",
            "4    5  133,2    5,4   54\n",
            "5    6  124,1    5,1   21\n",
            "6    7  129,2    5,3   42\n"
          ]
        }
      ]
    },
    {
      "cell_type": "markdown",
      "source": [
        "## DataSet 3"
      ],
      "metadata": {
        "id": "dsbCW_wNwzRh"
      }
    },
    {
      "cell_type": "code",
      "source": [
        "file_path= '/content/drive/MyDrive/Colab Notebooks/Data/Dataset 3.csv'\n",
        "df_DataSet3 = pd.read_csv(file_path)\n",
        "print(df_DataSet3)"
      ],
      "metadata": {
        "id": "o0Fn5A1Ywr9B",
        "colab": {
          "base_uri": "https://localhost:8080/"
        },
        "outputId": "e128e21b-4f3b-40f1-b626-71cd47542d52"
      },
      "execution_count": null,
      "outputs": [
        {
          "output_type": "stream",
          "name": "stdout",
          "text": [
            "   id weight height   age grender    income\n",
            "0   1  143,5    5,6  28.0       M  100000.0\n",
            "1   2  167,2    5,4  45.0       M       NaN\n",
            "2   3    NaN    5,2   NaN     NaN       NaN\n",
            "3   4  144,5    5,9  33.0       M       NaN\n",
            "4   5  133,2    5,7  54.0       F       NaN\n",
            "5   6  124,1    5,2   NaN       F       NaN\n",
            "6   7  129,2    5,3  42.0       M   76000.0\n"
          ]
        }
      ]
    }
  ]
}